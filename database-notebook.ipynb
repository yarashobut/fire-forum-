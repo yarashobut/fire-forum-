{
 "cells": [
  {
   "cell_type": "code",
   "execution_count": 10,
   "id": "19ce050e-856f-47aa-bfaa-9bf55c2d68da",
   "metadata": {},
   "outputs": [],
   "source": [
    "# DEFINE MODEL in Flask-SQLAlchemy\n",
    "from flask_sqlalchemy import SQLAlchemy                        \n",
    "from sqlalchemy import Column, String, Date, DateTime, Integer \n",
    "from datetime import datetime, date\n",
    "\n",
    "# create a db object using the SQLAlchemy constructor\n",
    "# SQLAlchemy is from flask_sqlalchemy and does a lot\n",
    "# of the heavy lifting for us vs. vanilla sqlalchemy\n",
    "db = SQLAlchemy()\n",
    "\n",
    "# EDIT ME: This must be exactly what you use in your models.py file\n",
    "# TODO: Add fields for author and upvotes\n",
    "class Thread(db.Model):\n",
    "    id = db.Column(db.Integer, primary_key=True)\n",
    "    title = db.Column(db.String(255), nullable=False)\n",
    "    content = db.Column(db.Text, nullable=False)\n",
    "    created_at = db.Column(db.DateTime, default=db.func.current_timestamp())\n",
    "    author = db.Column(db.String(255), nullable=False)\n",
    "    upvotes = db.Column(db.Integer, default=0)\n",
    "    comments = db.relationship('Comment', backref='thread', cascade=\"all, delete-orphan\", lazy=True)\n",
    "    \n",
    "\n",
    "    def __repr__(self) -> str:\n",
    "        string = f\"ID: {self.id}, Title: {self.title}, Content: {self.content}, Created_At: {self.created_at}, Comments: {self.comments}\"\n",
    "        return string\n",
    "    \n",
    "    def serialize(self):\n",
    "        return {\"id\": self.id,\\\n",
    "                \"title\": self.title,\\\n",
    "                \"content\": self.content}\n",
    "\n",
    "class Comment(db.Model):\n",
    "    id = db.Column(db.Integer, primary_key=True)\n",
    "    thread_id = db.Column(db.Integer, db.ForeignKey('thread.id'), nullable=False)\n",
    "    content = db.Column(db.Text, nullable=False)\n",
    "    created_at = db.Column(db.DateTime, default=db.func.current_timestamp())\n",
    "    author = db.Column(db.String(255), nullable=False)\n"
   ]
  },
  {
   "cell_type": "code",
   "execution_count": 11,
   "id": "0b98bd47-d5fa-40f5-83d6-4c5dfaf6b740",
   "metadata": {},
   "outputs": [
    {
     "data": {
      "text/plain": [
       "<sqlalchemy.orm.session.SessionTransaction at 0x7c9980f11b10>"
      ]
     },
     "execution_count": 11,
     "metadata": {},
     "output_type": "execute_result"
    }
   ],
   "source": [
    "# CONNECT TO THE DATABASE\n",
    "from sqlalchemy import text, create_engine, delete, select\n",
    "from sqlalchemy.orm import Session\n",
    "from datetime import date\n",
    "import sqlite3\n",
    "from models import Thread, Comment\n",
    "\n",
    "# create a SQLAlchemy engine to connect to our database\n",
    "engine = create_engine(\"sqlite:///instance/database.db\")\n",
    "session = Session(engine)\n",
    "session.begin()"
   ]
  },
  {
   "cell_type": "code",
   "execution_count": 12,
   "id": "7b3d1fd1-2cc8-4fa9-be71-47f14e9324af",
   "metadata": {},
   "outputs": [],
   "source": [
    "# INSERT Thread\n",
    "superbowl = Thread(title=\"Superbowl Thoughts\", content=\"E A G L E S EAGLEEEESSS\", author=\"ur mom\")\n",
    "session.add(superbowl)\n",
    "session.commit()"
   ]
  },
  {
   "cell_type": "code",
   "execution_count": 13,
   "id": "7d5b58a1-9191-4390-ab6d-0f38aae8c243",
   "metadata": {},
   "outputs": [],
   "source": [
    "# INSERT Comment\n",
    "chiefs = Comment(thread_id = 1, content=\"CHIEFS FOREVER LOSERR\", author=\"chiefsForLife\")\n",
    "session.add(chiefs)\n",
    "session.commit()"
   ]
  },
  {
   "cell_type": "code",
   "execution_count": 27,
   "id": "0ec6b4db-7815-4d5b-9594-8064db9fc636",
   "metadata": {},
   "outputs": [
    {
     "data": {
      "text/plain": [
       "[ID: 2, Title: Superbowl Thoughts, Content: E A G L E S EAGLEEEESSS, Created_At: 2025-02-27 20:03:27, Comments: [],\n",
       " ID: 3, Title: Superbowl Thoughts, Content: E A G L E S EAGLEEEESSS, Created_At: 2025-02-27 20:05:17, Comments: [],\n",
       " ID: 4, Title: Superbowl Thoughts, Content: E A G L E S EAGLEEEESSS, Created_At: 2025-02-27 20:15:15, Comments: []]"
      ]
     },
     "execution_count": 27,
     "metadata": {},
     "output_type": "execute_result"
    }
   ],
   "source": [
    "# QUERY Thread\n",
    "session.query(Thread).filter(Thread.title.contains(\"Superbowl Thoughts\")).all()"
   ]
  },
  {
   "cell_type": "code",
   "execution_count": 23,
   "id": "db5a15b6-994e-43fa-ad7e-74eb6bb27615",
   "metadata": {},
   "outputs": [
    {
     "name": "stdout",
     "output_type": "stream",
     "text": [
      "live laf luv\n"
     ]
    }
   ],
   "source": [
    "# QUERY Comment\n",
    "first_comment = session.query(Comment).filter(Comment.author.contains(\"chiefsForLife\")).first()\n",
    "print(first_comment.content)"
   ]
  },
  {
   "cell_type": "code",
   "execution_count": 20,
   "id": "7d4cf8a0-cee1-4c82-be30-2115902efcdb",
   "metadata": {},
   "outputs": [],
   "source": [
    "# UPDATE Thread\n",
    "update_thread = session.query(Thread).filter(Thread.title.contains(\"Superbowl Thoughts\")).first()\n",
    "update_thread.content = \"Spread peace and love <3 \"\n",
    "session.commit()"
   ]
  },
  {
   "cell_type": "code",
   "execution_count": 22,
   "id": "06eac1f3-67ad-47a7-81c4-a7091426acb5",
   "metadata": {},
   "outputs": [],
   "source": [
    "# UPDATE Comment\n",
    "update_comment = first_comment = session.query(Comment).filter(Comment.author.contains(\"chiefsForLife\")).first()\n",
    "update_comment.content = \"live laf luv\" \n",
    "session.commit()"
   ]
  },
  {
   "cell_type": "code",
   "execution_count": null,
   "id": "bb35012f-04c4-41c1-a716-87fa1ac106db",
   "metadata": {},
   "outputs": [],
   "source": [
    "# DELETE Comment\n",
    "delete_thread = session.query(Thread).filter(Thread.title.contains(\"Superbowl Thoughts\")).first()\n",
    "session.delete(delete_thread)\n",
    "session.commit()"
   ]
  },
  {
   "cell_type": "code",
   "execution_count": 26,
   "id": "5edc4b0e-d3ac-4b79-87a3-9db83975897a",
   "metadata": {},
   "outputs": [],
   "source": [
    "# DELETE Thread\n",
    "delete_thread = session.query(Thread).filter(Thread.title.contains(\"Superbowl Thoughts\")).first()\n",
    "session.delete(delete_thread)\n",
    "session.commit()"
   ]
  }
 ],
 "metadata": {
  "kernelspec": {
   "display_name": "Python 3 (ipykernel)",
   "language": "python",
   "name": "python3"
  },
  "language_info": {
   "codemirror_mode": {
    "name": "ipython",
    "version": 3
   },
   "file_extension": ".py",
   "mimetype": "text/x-python",
   "name": "python",
   "nbconvert_exporter": "python",
   "pygments_lexer": "ipython3",
   "version": "3.12.3"
  }
 },
 "nbformat": 4,
 "nbformat_minor": 5
}
